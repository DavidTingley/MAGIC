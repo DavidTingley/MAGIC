{
 "cells": [
  {
   "cell_type": "markdown",
   "metadata": {},
   "source": [
    "<h3>MAGIC for single cell RNA-seq</h3>\n",
    "\n",
    "<h4>Table of contents</h4>\n",
    "<br/>\n",
    "<a href='#intro'>Introduction</a>\n",
    "<br/>\n",
    "<a href='#data'>Loading data</a>\n",
    "<br/>\n",
    "<a href='#pre'>Data preprocessing</a>\n",
    "<br/>\n",
    "<a href='#magic'>Running MAGIC</a>\n",
    "<br/>\n",
    "<a href='#magic2'>Visualizing MAGIC-ed data</a>"
   ]
  },
  {
   "cell_type": "markdown",
   "metadata": {},
   "source": [
    "<a id=\"intro\"></a><h3> Introduction </h3>"
   ]
  },
  {
   "cell_type": "markdown",
   "metadata": {},
   "source": [
    "This notebook details the usage of MAGIC for single cell RNA-seq data."
   ]
  },
  {
   "cell_type": "markdown",
   "metadata": {},
   "source": [
    "<a id=\"data\"></a><h3> Loading data </h3>"
   ]
  },
  {
   "cell_type": "markdown",
   "metadata": {},
   "source": [
    "MAGIC can read single cell RNA-seq data from a csv or sparse mtx file. The csv file contains cells in the rows and genes in the columns. First step is to import the package. The following code snippet imports the `magic` package along with other plotting related imports"
   ]
  },
  {
   "cell_type": "code",
   "execution_count": 1,
   "metadata": {
    "collapsed": false
   },
   "outputs": [
    {
     "name": "stderr",
     "output_type": "stream",
     "text": [
      "/Library/Frameworks/Python.framework/Versions/3.5/lib/python3.5/site-packages/matplotlib/__init__.py:1350: UserWarning:  This call to matplotlib.use() has no effect\n",
      "because the backend has already been chosen;\n",
      "matplotlib.use() must be called *before* pylab, matplotlib.pyplot,\n",
      "or matplotlib.backends is imported for the first time.\n",
      "\n",
      "  warnings.warn(_use_error_msg)\n"
     ]
    }
   ],
   "source": [
    "import magic\n",
    "\n",
    "# Plotting and miscellaneous imports\n",
    "import os\n",
    "import matplotlib\n",
    "import matplotlib.pyplot as plt\n",
    "\n",
    "%matplotlib inline"
   ]
  },
  {
   "cell_type": "markdown",
   "metadata": {
    "collapsed": false
   },
   "source": [
    "The data can be loaded using the `magic.mg.SCData.from_csv` or `magic.mg.SCData.from_mtx` functions. "
   ]
  },
  {
   "cell_type": "code",
   "execution_count": 2,
   "metadata": {
    "collapsed": false
   },
   "outputs": [],
   "source": [
    "# Load single-cell RNA-seq data\n",
    "scdata = magic.mg.SCData.from_csv(os.path.expanduser('~/Documents/Sophomore/Lab/wishbone/data/sdata_nn_TGFb_day_8_10.csv'),\n",
    "                                  data_type='sc-seq')\n"
   ]
  },
  {
   "cell_type": "markdown",
   "metadata": {},
   "source": [
    "This will create an object of the type `magic.mg.SCData` which is the base class for the analysis."
   ]
  },
  {
   "cell_type": "markdown",
   "metadata": {},
   "source": [
    "<a id='pca'></a>A summary of the `scdata` object is shown below"
   ]
  },
  {
   "cell_type": "code",
   "execution_count": 3,
   "metadata": {
    "collapsed": false
   },
   "outputs": [
    {
     "data": {
      "text/plain": [
       "SCData: 7523 cells x 28909 genes\n",
       "\n",
       "cluster_assignments=None\n",
       "data_type=True\n",
       "diffusion_eigenvalues=None\n",
       "diffusion_eigenvectors=None\n",
       "diffusion_map_correlations=None\n",
       "library_sizes=True\n",
       "magic=None\n",
       "metadata=True\n",
       "normalized=True\n",
       "pca=None\n",
       "tsne=None"
      ]
     },
     "execution_count": 3,
     "metadata": {},
     "output_type": "execute_result"
    }
   ],
   "source": [
    "scdata"
   ]
  },
  {
   "cell_type": "markdown",
   "metadata": {},
   "source": [
    "This shows that the data matrix contains `7523` cells and `28909` genes along with the different properties of the `magic.mg.SCData` class."
   ]
  },
  {
   "cell_type": "markdown",
   "metadata": {},
   "source": [
    "The `scdata` object can also be initialized using a `pandas DataFrame`. An example is shown below <br/>\n",
    "<code>\n",
    "scdata = magic.mg.SCData(df, 'sc-seq')\n",
    "</code>"
   ]
  },
  {
   "cell_type": "markdown",
   "metadata": {},
   "source": [
    "<a id='pre'></a><h3>Data preprocessing</h3>"
   ]
  },
  {
   "cell_type": "markdown",
   "metadata": {},
   "source": [
    "<h4> Filter and normalize data </h4>"
   ]
  },
  {
   "cell_type": "markdown",
   "metadata": {},
   "source": [
    "The first step in data processing for MAGIC is to determine the molecule per cell and molecule per gene cutoffs with which to filter the data"
   ]
  },
  {
   "cell_type": "code",
   "execution_count": 4,
   "metadata": {
    "collapsed": false
   },
   "outputs": [
    {
     "name": "stdout",
     "output_type": "stream",
     "text": [
      "3.625\n",
      "3.625\n"
     ]
    },
    {
     "data": {
      "image/png": "[encoded data removed]",
      "text/plain": [
       "<matplotlib.figure.Figure at 0x10ee2f9e8>"
      ]
     },
     "metadata": {},
     "output_type": "display_data"
    }
   ],
   "source": [
    "fig, ax = scdata.plot_molecules_per_cell_and_gene()"
   ]
  },
  {
   "cell_type": "markdown",
   "metadata": {
    "collapsed": true
   },
   "source": [
    "From these histograms, choose the appropriate cutoffs to filter the data. In this case, the data has already been filtered."
   ]
  },
  {
   "cell_type": "code",
   "execution_count": 5,
   "metadata": {
    "collapsed": true
   },
   "outputs": [],
   "source": [
    "CELL_MIN = 0\n",
    "CELL_MAX = 0\n",
    "GENE_NONZERO = None\n",
    "GENE_MOLECULES = None"
   ]
  },
  {
   "cell_type": "code",
   "execution_count": 6,
   "metadata": {
    "collapsed": false,
    "scrolled": false
   },
   "outputs": [],
   "source": [
    "scdata.filter_scseq_data(filter_cell_min=CELL_MIN, filter_cell_max=CELL_MAX, \n",
    "                         filter_gene_nonzero=GENE_NONZERO, filter_gene_mols=GENE_MOLECULES)"
   ]
  },
  {
   "cell_type": "code",
   "execution_count": 7,
   "metadata": {
    "collapsed": false
   },
   "outputs": [
    {
     "data": {
      "text/plain": [
       "SCData: 7523 cells x 28909 genes\n",
       "\n",
       "cluster_assignments=None\n",
       "data_type=True\n",
       "diffusion_eigenvalues=None\n",
       "diffusion_eigenvectors=None\n",
       "diffusion_map_correlations=None\n",
       "library_sizes=True\n",
       "magic=None\n",
       "metadata=True\n",
       "normalized=True\n",
       "pca=None\n",
       "tsne=None"
      ]
     },
     "execution_count": 7,
     "metadata": {},
     "output_type": "execute_result"
    }
   ],
   "source": [
    "scdata"
   ]
  },
  {
   "cell_type": "markdown",
   "metadata": {},
   "source": [
    "Next, we will normalize the data by dividing each cell by its molecule count and multiplying the counts of cells by the median of the molecule counts."
   ]
  },
  {
   "cell_type": "code",
   "execution_count": 8,
   "metadata": {
    "collapsed": false
   },
   "outputs": [],
   "source": [
    "scdata = scdata.normalize_scseq_data()"
   ]
  },
  {
   "cell_type": "markdown",
   "metadata": {},
   "source": [
    "<h4> Saving SCData object </h4>"
   ]
  },
  {
   "cell_type": "markdown",
   "metadata": {},
   "source": [
    "The `SCData` object can be saved to a pickle file and loaded using the `save` and `load` functions.\n",
    "<code>\n",
    "scdata.save('scdata.p')\n",
    "scdata = magic.mg.SCdata.load('scdata.p')\n",
    "</code>\n",
    "\n",
    "<a id=\"magic\"></a><h3> Running MAGIC </h3>"
   ]
  },
  {
   "cell_type": "markdown",
   "metadata": {},
   "source": [
    "When running MAGIC, a number of parameters can be specified -- including whether to use a gaussian or tsne kernel. Here, we run MAGIC using the default parameters."
   ]
  },
  {
   "cell_type": "code",
   "execution_count": 9,
   "metadata": {
    "collapsed": false,
    "scrolled": false
   },
   "outputs": [
    {
     "name": "stdout",
     "output_type": "stream",
     "text": [
      "Autotuning distances\n",
      "MAGIC: L_t = L^t\n",
      "MAGIC: data_new = L_t * data\n"
     ]
    }
   ],
   "source": [
    "# MAGIC\n",
    "scdata.run_magic()"
   ]
  },
  {
   "cell_type": "code",
   "execution_count": 10,
   "metadata": {
    "collapsed": true
   },
   "outputs": [],
   "source": [
    "scdata.run_tsne()"
   ]
  },
  {
   "cell_type": "markdown",
   "metadata": {},
   "source": [
    "<a id=\"magic2\"></a><h3> Visualizations </h3>"
   ]
  },
  {
   "cell_type": "markdown",
   "metadata": {},
   "source": [
    "2D scatter plot before MAGIC"
   ]
  },
  {
   "cell_type": "code",
   "execution_count": null,
   "metadata": {
    "collapsed": false
   },
   "outputs": [
    {
     "data": {
      "image/png": "[encoded data removed]",
      "text/plain": [
       "<matplotlib.figure.Figure at 0x13f585f60>"
      ]
     },
     "metadata": {},
     "output_type": "display_data"
    }
   ],
   "source": [
    "fig, ax = scdata.scatter_gene_expression(['VIM', 'CDH1'], color = scdata.data['ZEB1'])"
   ]
  },
  {
   "cell_type": "markdown",
   "metadata": {},
   "source": [
    "2D scatter plot after MAGIC"
   ]
  },
  {
   "cell_type": "code",
   "execution_count": null,
   "metadata": {
    "collapsed": false
   },
   "outputs": [],
   "source": [
    "fig, ax = scdata.magic.scatter_gene_expression(['VIM', 'CDH1'], color = scdata.magic.data['ZEB1'])"
   ]
  },
  {
   "cell_type": "markdown",
   "metadata": {},
   "source": [
    "3D scatter plot before MAGIC"
   ]
  },
  {
   "cell_type": "code",
   "execution_count": null,
   "metadata": {
    "collapsed": false
   },
   "outputs": [],
   "source": [
    "fig, ax = scdata.scatter_gene_expression(['VIM', 'CDH1', 'FN1'], color=scdata.data['ZEB1'])"
   ]
  },
  {
   "cell_type": "markdown",
   "metadata": {},
   "source": [
    "3D scatter plot after MAGIC"
   ]
  },
  {
   "cell_type": "code",
   "execution_count": null,
   "metadata": {
    "collapsed": false
   },
   "outputs": [],
   "source": [
    "fig, ax = scdata.magic.scatter_gene_expression(['VIM', 'CDH1', 'FN1'], color=scdata.magic.data['ZEB1'])"
   ]
  },
  {
   "cell_type": "markdown",
   "metadata": {},
   "source": [
    "tSNE map colored by ZEB1 expression (before MAGIC)"
   ]
  },
  {
   "cell_type": "code",
   "execution_count": null,
   "metadata": {
    "collapsed": false
   },
   "outputs": [],
   "source": [
    "fig, ax = scdata.plot_tsne(color=scdata.data['ZEB1'], title='tSNE projection (color = ZEB1)')"
   ]
  },
  {
   "cell_type": "markdown",
   "metadata": {},
   "source": [
    "tSNE map colored by ZEB1 expression (after MAGIC)"
   ]
  },
  {
   "cell_type": "code",
   "execution_count": null,
   "metadata": {
    "collapsed": false
   },
   "outputs": [],
   "source": [
    "fix, ax = scdata.plot_tsne(color=scdata.magic.data['ZEB1'], title='tSNE projection (color = MAGIC ZEB1)')"
   ]
  }
 ],
 "metadata": {
  "kernelspec": {
   "display_name": "Python 3",
   "language": "python",
   "name": "python3"
  },
  "language_info": {
   "codemirror_mode": {
    "name": "ipython",
    "version": 3
   },
   "file_extension": ".py",
   "mimetype": "text/x-python",
   "name": "python",
   "nbconvert_exporter": "python",
   "pygments_lexer": "ipython3",
   "version": "3.5.0"
  }
 },
 "nbformat": 4,
 "nbformat_minor": 0
}
